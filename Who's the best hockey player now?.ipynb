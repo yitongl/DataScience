{
 "cells": [
  {
   "cell_type": "code",
   "execution_count": 1,
   "metadata": {
    "collapsed": false
   },
   "outputs": [],
   "source": [
    "%matplotlib inline\n",
    "import pandas as pd\n",
    "from sklearn import preprocessing\n",
    "import matplotlib.pyplot as plt"
   ]
  },
  {
   "cell_type": "code",
   "execution_count": 2,
   "metadata": {
    "collapsed": true
   },
   "outputs": [],
   "source": [
    "df = pd.read_csv('games.csv')"
   ]
  },
  {
   "cell_type": "code",
   "execution_count": 3,
   "metadata": {
    "collapsed": false
   },
   "outputs": [
    {
     "data": {
      "text/html": [
       "<div>\n",
       "<table border=\"1\" class=\"dataframe\">\n",
       "  <thead>\n",
       "    <tr style=\"text-align: right;\">\n",
       "      <th></th>\n",
       "      <th>player</th>\n",
       "      <th>goals</th>\n",
       "      <th>assists</th>\n",
       "      <th>points</th>\n",
       "      <th>plus_minus</th>\n",
       "      <th>penalty_minutes</th>\n",
       "      <th>power_play_goals</th>\n",
       "      <th>short_handed_goals</th>\n",
       "      <th>shots</th>\n",
       "      <th>shot_percentage</th>\n",
       "      <th>shifts</th>\n",
       "      <th>minutes_on_ice</th>\n",
       "      <th>team</th>\n",
       "      <th>versus</th>\n",
       "      <th>date</th>\n",
       "    </tr>\n",
       "  </thead>\n",
       "  <tbody>\n",
       "    <tr>\n",
       "      <th>0</th>\n",
       "      <td>Matt Bartkowski</td>\n",
       "      <td>0</td>\n",
       "      <td>0</td>\n",
       "      <td>0</td>\n",
       "      <td>0</td>\n",
       "      <td>0</td>\n",
       "      <td>0</td>\n",
       "      <td>0</td>\n",
       "      <td>2</td>\n",
       "      <td>0.0</td>\n",
       "      <td>17</td>\n",
       "      <td>13.6</td>\n",
       "      <td>CGY</td>\n",
       "      <td>EDM</td>\n",
       "      <td>2017-10-04</td>\n",
       "    </tr>\n",
       "    <tr>\n",
       "      <th>1</th>\n",
       "      <td>Sam Bennett</td>\n",
       "      <td>0</td>\n",
       "      <td>0</td>\n",
       "      <td>0</td>\n",
       "      <td>-2</td>\n",
       "      <td>0</td>\n",
       "      <td>0</td>\n",
       "      <td>0</td>\n",
       "      <td>0</td>\n",
       "      <td>0.0</td>\n",
       "      <td>18</td>\n",
       "      <td>15.2</td>\n",
       "      <td>CGY</td>\n",
       "      <td>EDM</td>\n",
       "      <td>2017-10-04</td>\n",
       "    </tr>\n",
       "    <tr>\n",
       "      <th>2</th>\n",
       "      <td>T.J. Brodie</td>\n",
       "      <td>0</td>\n",
       "      <td>0</td>\n",
       "      <td>0</td>\n",
       "      <td>-3</td>\n",
       "      <td>0</td>\n",
       "      <td>0</td>\n",
       "      <td>0</td>\n",
       "      <td>1</td>\n",
       "      <td>0.0</td>\n",
       "      <td>28</td>\n",
       "      <td>23.8</td>\n",
       "      <td>CGY</td>\n",
       "      <td>EDM</td>\n",
       "      <td>2017-10-04</td>\n",
       "    </tr>\n",
       "    <tr>\n",
       "      <th>3</th>\n",
       "      <td>Troy Brouwer</td>\n",
       "      <td>0</td>\n",
       "      <td>0</td>\n",
       "      <td>0</td>\n",
       "      <td>-2</td>\n",
       "      <td>0</td>\n",
       "      <td>0</td>\n",
       "      <td>0</td>\n",
       "      <td>0</td>\n",
       "      <td>0.0</td>\n",
       "      <td>19</td>\n",
       "      <td>15.5</td>\n",
       "      <td>CGY</td>\n",
       "      <td>EDM</td>\n",
       "      <td>2017-10-04</td>\n",
       "    </tr>\n",
       "    <tr>\n",
       "      <th>4</th>\n",
       "      <td>Micheal Ferland</td>\n",
       "      <td>0</td>\n",
       "      <td>0</td>\n",
       "      <td>0</td>\n",
       "      <td>-1</td>\n",
       "      <td>0</td>\n",
       "      <td>0</td>\n",
       "      <td>0</td>\n",
       "      <td>4</td>\n",
       "      <td>0.0</td>\n",
       "      <td>18</td>\n",
       "      <td>15.6</td>\n",
       "      <td>CGY</td>\n",
       "      <td>EDM</td>\n",
       "      <td>2017-10-04</td>\n",
       "    </tr>\n",
       "  </tbody>\n",
       "</table>\n",
       "</div>"
      ],
      "text/plain": [
       "            player  goals  assists  points  plus_minus  penalty_minutes  \\\n",
       "0  Matt Bartkowski      0        0       0           0                0   \n",
       "1      Sam Bennett      0        0       0          -2                0   \n",
       "2      T.J. Brodie      0        0       0          -3                0   \n",
       "3     Troy Brouwer      0        0       0          -2                0   \n",
       "4  Micheal Ferland      0        0       0          -1                0   \n",
       "\n",
       "   power_play_goals  short_handed_goals  shots  shot_percentage  shifts  \\\n",
       "0                 0                   0      2              0.0      17   \n",
       "1                 0                   0      0              0.0      18   \n",
       "2                 0                   0      1              0.0      28   \n",
       "3                 0                   0      0              0.0      19   \n",
       "4                 0                   0      4              0.0      18   \n",
       "\n",
       "   minutes_on_ice team versus        date  \n",
       "0            13.6  CGY    EDM  2017-10-04  \n",
       "1            15.2  CGY    EDM  2017-10-04  \n",
       "2            23.8  CGY    EDM  2017-10-04  \n",
       "3            15.5  CGY    EDM  2017-10-04  \n",
       "4            15.6  CGY    EDM  2017-10-04  "
      ]
     },
     "execution_count": 3,
     "metadata": {},
     "output_type": "execute_result"
    }
   ],
   "source": [
    "df.head() #inspecting the dataframe"
   ]
  },
  {
   "cell_type": "code",
   "execution_count": 4,
   "metadata": {
    "collapsed": false
   },
   "outputs": [
    {
     "data": {
      "text/html": [
       "<div>\n",
       "<table border=\"1\" class=\"dataframe\">\n",
       "  <thead>\n",
       "    <tr style=\"text-align: right;\">\n",
       "      <th></th>\n",
       "      <th>goals</th>\n",
       "      <th>assists</th>\n",
       "      <th>points</th>\n",
       "      <th>plus_minus</th>\n",
       "      <th>penalty_minutes</th>\n",
       "      <th>power_play_goals</th>\n",
       "      <th>short_handed_goals</th>\n",
       "      <th>shots</th>\n",
       "      <th>shot_percentage</th>\n",
       "      <th>shifts</th>\n",
       "      <th>minutes_on_ice</th>\n",
       "    </tr>\n",
       "  </thead>\n",
       "  <tbody>\n",
       "    <tr>\n",
       "      <th>count</th>\n",
       "      <td>96077.000000</td>\n",
       "      <td>96077.000000</td>\n",
       "      <td>96077.000000</td>\n",
       "      <td>96077.000000</td>\n",
       "      <td>96077.000000</td>\n",
       "      <td>96077.000000</td>\n",
       "      <td>96077.000000</td>\n",
       "      <td>96077.000000</td>\n",
       "      <td>96077.000000</td>\n",
       "      <td>96077.000000</td>\n",
       "      <td>96077.000000</td>\n",
       "    </tr>\n",
       "    <tr>\n",
       "      <th>mean</th>\n",
       "      <td>0.150764</td>\n",
       "      <td>0.254848</td>\n",
       "      <td>0.405612</td>\n",
       "      <td>-0.008066</td>\n",
       "      <td>0.509976</td>\n",
       "      <td>0.032349</td>\n",
       "      <td>0.004361</td>\n",
       "      <td>1.680132</td>\n",
       "      <td>0.067103</td>\n",
       "      <td>21.847966</td>\n",
       "      <td>16.499115</td>\n",
       "    </tr>\n",
       "    <tr>\n",
       "      <th>std</th>\n",
       "      <td>0.401779</td>\n",
       "      <td>0.521999</td>\n",
       "      <td>0.672193</td>\n",
       "      <td>1.101526</td>\n",
       "      <td>1.422007</td>\n",
       "      <td>0.183510</td>\n",
       "      <td>0.066367</td>\n",
       "      <td>1.522086</td>\n",
       "      <td>0.197881</td>\n",
       "      <td>5.290250</td>\n",
       "      <td>4.733410</td>\n",
       "    </tr>\n",
       "    <tr>\n",
       "      <th>min</th>\n",
       "      <td>0.000000</td>\n",
       "      <td>0.000000</td>\n",
       "      <td>0.000000</td>\n",
       "      <td>-6.000000</td>\n",
       "      <td>0.000000</td>\n",
       "      <td>0.000000</td>\n",
       "      <td>0.000000</td>\n",
       "      <td>0.000000</td>\n",
       "      <td>0.000000</td>\n",
       "      <td>0.000000</td>\n",
       "      <td>0.000000</td>\n",
       "    </tr>\n",
       "    <tr>\n",
       "      <th>25%</th>\n",
       "      <td>0.000000</td>\n",
       "      <td>0.000000</td>\n",
       "      <td>0.000000</td>\n",
       "      <td>-1.000000</td>\n",
       "      <td>0.000000</td>\n",
       "      <td>0.000000</td>\n",
       "      <td>0.000000</td>\n",
       "      <td>1.000000</td>\n",
       "      <td>0.000000</td>\n",
       "      <td>19.000000</td>\n",
       "      <td>13.300000</td>\n",
       "    </tr>\n",
       "    <tr>\n",
       "      <th>50%</th>\n",
       "      <td>0.000000</td>\n",
       "      <td>0.000000</td>\n",
       "      <td>0.000000</td>\n",
       "      <td>0.000000</td>\n",
       "      <td>0.000000</td>\n",
       "      <td>0.000000</td>\n",
       "      <td>0.000000</td>\n",
       "      <td>1.000000</td>\n",
       "      <td>0.000000</td>\n",
       "      <td>22.000000</td>\n",
       "      <td>16.600000</td>\n",
       "    </tr>\n",
       "    <tr>\n",
       "      <th>75%</th>\n",
       "      <td>0.000000</td>\n",
       "      <td>0.000000</td>\n",
       "      <td>1.000000</td>\n",
       "      <td>1.000000</td>\n",
       "      <td>0.000000</td>\n",
       "      <td>0.000000</td>\n",
       "      <td>0.000000</td>\n",
       "      <td>2.000000</td>\n",
       "      <td>0.000000</td>\n",
       "      <td>25.000000</td>\n",
       "      <td>19.700000</td>\n",
       "    </tr>\n",
       "    <tr>\n",
       "      <th>max</th>\n",
       "      <td>4.000000</td>\n",
       "      <td>5.000000</td>\n",
       "      <td>5.000000</td>\n",
       "      <td>6.000000</td>\n",
       "      <td>29.000000</td>\n",
       "      <td>3.000000</td>\n",
       "      <td>2.000000</td>\n",
       "      <td>15.000000</td>\n",
       "      <td>1.000000</td>\n",
       "      <td>43.000000</td>\n",
       "      <td>36.600000</td>\n",
       "    </tr>\n",
       "  </tbody>\n",
       "</table>\n",
       "</div>"
      ],
      "text/plain": [
       "              goals       assists        points    plus_minus  \\\n",
       "count  96077.000000  96077.000000  96077.000000  96077.000000   \n",
       "mean       0.150764      0.254848      0.405612     -0.008066   \n",
       "std        0.401779      0.521999      0.672193      1.101526   \n",
       "min        0.000000      0.000000      0.000000     -6.000000   \n",
       "25%        0.000000      0.000000      0.000000     -1.000000   \n",
       "50%        0.000000      0.000000      0.000000      0.000000   \n",
       "75%        0.000000      0.000000      1.000000      1.000000   \n",
       "max        4.000000      5.000000      5.000000      6.000000   \n",
       "\n",
       "       penalty_minutes  power_play_goals  short_handed_goals         shots  \\\n",
       "count     96077.000000      96077.000000        96077.000000  96077.000000   \n",
       "mean          0.509976          0.032349            0.004361      1.680132   \n",
       "std           1.422007          0.183510            0.066367      1.522086   \n",
       "min           0.000000          0.000000            0.000000      0.000000   \n",
       "25%           0.000000          0.000000            0.000000      1.000000   \n",
       "50%           0.000000          0.000000            0.000000      1.000000   \n",
       "75%           0.000000          0.000000            0.000000      2.000000   \n",
       "max          29.000000          3.000000            2.000000     15.000000   \n",
       "\n",
       "       shot_percentage        shifts  minutes_on_ice  \n",
       "count     96077.000000  96077.000000    96077.000000  \n",
       "mean          0.067103     21.847966       16.499115  \n",
       "std           0.197881      5.290250        4.733410  \n",
       "min           0.000000      0.000000        0.000000  \n",
       "25%           0.000000     19.000000       13.300000  \n",
       "50%           0.000000     22.000000       16.600000  \n",
       "75%           0.000000     25.000000       19.700000  \n",
       "max           1.000000     43.000000       36.600000  "
      ]
     },
     "execution_count": 4,
     "metadata": {},
     "output_type": "execute_result"
    }
   ],
   "source": [
    "df.describe() #understand the dataframe"
   ]
  },
  {
   "cell_type": "code",
   "execution_count": 5,
   "metadata": {
    "collapsed": false
   },
   "outputs": [],
   "source": [
    "# calculate game played per player\n",
    "game_attend = df.groupby(['player'])['goals'].count() "
   ]
  },
  {
   "cell_type": "code",
   "execution_count": 6,
   "metadata": {
    "collapsed": false
   },
   "outputs": [
    {
     "data": {
      "text/plain": [
       "<matplotlib.axes._subplots.AxesSubplot at 0x116916190>"
      ]
     },
     "execution_count": 6,
     "metadata": {},
     "output_type": "execute_result"
    },
    {
     "data": {
      "image/png": "[encoded data removed]",
      "text/plain": [
       "<matplotlib.figure.Figure at 0x115427850>"
      ]
     },
     "metadata": {},
     "output_type": "display_data"
    }
   ],
   "source": [
    "game_attend.hist()"
   ]
  },
  {
   "cell_type": "code",
   "execution_count": 7,
   "metadata": {
    "collapsed": false
   },
   "outputs": [],
   "source": [
    "# Genrating the dataframe with the mean of all metrics per player\n",
    "player_mean = df.groupby(['player']).mean() "
   ]
  },
  {
   "cell_type": "code",
   "execution_count": 8,
   "metadata": {
    "collapsed": false
   },
   "outputs": [],
   "source": [
    "# Adding the metric \"number of game_attended per player\"\n",
    "player_mean['game_attended'] = game_attend  "
   ]
  },
  {
   "cell_type": "code",
   "execution_count": 9,
   "metadata": {
    "collapsed": false
   },
   "outputs": [],
   "source": [
    "# Filter out the players who have played less then 10% percentile number of game played per player\n",
    "player_mean =  player_mean[player_mean['game_attended'] > player_mean['game_attended'].quantile(.1)] "
   ]
  },
  {
   "cell_type": "code",
   "execution_count": 10,
   "metadata": {
    "collapsed": false
   },
   "outputs": [
    {
     "data": {
      "text/html": [
       "<div>\n",
       "<table border=\"1\" class=\"dataframe\">\n",
       "  <thead>\n",
       "    <tr style=\"text-align: right;\">\n",
       "      <th></th>\n",
       "      <th>goals</th>\n",
       "      <th>assists</th>\n",
       "      <th>points</th>\n",
       "      <th>plus_minus</th>\n",
       "      <th>penalty_minutes</th>\n",
       "      <th>power_play_goals</th>\n",
       "      <th>short_handed_goals</th>\n",
       "      <th>shots</th>\n",
       "      <th>shot_percentage</th>\n",
       "      <th>shifts</th>\n",
       "      <th>minutes_on_ice</th>\n",
       "      <th>game_attended</th>\n",
       "    </tr>\n",
       "    <tr>\n",
       "      <th>player</th>\n",
       "      <th></th>\n",
       "      <th></th>\n",
       "      <th></th>\n",
       "      <th></th>\n",
       "      <th></th>\n",
       "      <th></th>\n",
       "      <th></th>\n",
       "      <th></th>\n",
       "      <th></th>\n",
       "      <th></th>\n",
       "      <th></th>\n",
       "      <th></th>\n",
       "    </tr>\n",
       "  </thead>\n",
       "  <tbody>\n",
       "    <tr>\n",
       "      <th>A.J. Greer</th>\n",
       "      <td>0.00000</td>\n",
       "      <td>0.181818</td>\n",
       "      <td>0.181818</td>\n",
       "      <td>-0.272727</td>\n",
       "      <td>2.000000</td>\n",
       "      <td>0.00000</td>\n",
       "      <td>0.000000</td>\n",
       "      <td>1.272727</td>\n",
       "      <td>0.000000</td>\n",
       "      <td>15.818182</td>\n",
       "      <td>10.663636</td>\n",
       "      <td>11</td>\n",
       "    </tr>\n",
       "    <tr>\n",
       "      <th>Aaron Ekblad</th>\n",
       "      <td>0.16568</td>\n",
       "      <td>0.218935</td>\n",
       "      <td>0.384615</td>\n",
       "      <td>-0.005917</td>\n",
       "      <td>0.733728</td>\n",
       "      <td>0.04142</td>\n",
       "      <td>0.005917</td>\n",
       "      <td>2.763314</td>\n",
       "      <td>0.061899</td>\n",
       "      <td>24.668639</td>\n",
       "      <td>21.862130</td>\n",
       "      <td>169</td>\n",
       "    </tr>\n",
       "    <tr>\n",
       "      <th>Aaron Ness</th>\n",
       "      <td>0.00000</td>\n",
       "      <td>0.166667</td>\n",
       "      <td>0.166667</td>\n",
       "      <td>0.277778</td>\n",
       "      <td>0.555556</td>\n",
       "      <td>0.00000</td>\n",
       "      <td>0.000000</td>\n",
       "      <td>0.555556</td>\n",
       "      <td>0.000000</td>\n",
       "      <td>18.222222</td>\n",
       "      <td>12.583333</td>\n",
       "      <td>18</td>\n",
       "    </tr>\n",
       "    <tr>\n",
       "      <th>Adam Clendening</th>\n",
       "      <td>0.00000</td>\n",
       "      <td>0.222222</td>\n",
       "      <td>0.222222</td>\n",
       "      <td>0.111111</td>\n",
       "      <td>0.518519</td>\n",
       "      <td>0.00000</td>\n",
       "      <td>0.000000</td>\n",
       "      <td>1.259259</td>\n",
       "      <td>0.000000</td>\n",
       "      <td>20.407407</td>\n",
       "      <td>15.166667</td>\n",
       "      <td>27</td>\n",
       "    </tr>\n",
       "    <tr>\n",
       "      <th>Adam Cracknell</th>\n",
       "      <td>0.12000</td>\n",
       "      <td>0.088000</td>\n",
       "      <td>0.208000</td>\n",
       "      <td>0.064000</td>\n",
       "      <td>0.256000</td>\n",
       "      <td>0.00000</td>\n",
       "      <td>0.008000</td>\n",
       "      <td>1.280000</td>\n",
       "      <td>0.061728</td>\n",
       "      <td>16.272000</td>\n",
       "      <td>11.100800</td>\n",
       "      <td>125</td>\n",
       "    </tr>\n",
       "  </tbody>\n",
       "</table>\n",
       "</div>"
      ],
      "text/plain": [
       "                   goals   assists    points  plus_minus  penalty_minutes  \\\n",
       "player                                                                      \n",
       "A.J. Greer       0.00000  0.181818  0.181818   -0.272727         2.000000   \n",
       "Aaron Ekblad     0.16568  0.218935  0.384615   -0.005917         0.733728   \n",
       "Aaron Ness       0.00000  0.166667  0.166667    0.277778         0.555556   \n",
       "Adam Clendening  0.00000  0.222222  0.222222    0.111111         0.518519   \n",
       "Adam Cracknell   0.12000  0.088000  0.208000    0.064000         0.256000   \n",
       "\n",
       "                 power_play_goals  short_handed_goals     shots  \\\n",
       "player                                                            \n",
       "A.J. Greer                0.00000            0.000000  1.272727   \n",
       "Aaron Ekblad              0.04142            0.005917  2.763314   \n",
       "Aaron Ness                0.00000            0.000000  0.555556   \n",
       "Adam Clendening           0.00000            0.000000  1.259259   \n",
       "Adam Cracknell            0.00000            0.008000  1.280000   \n",
       "\n",
       "                 shot_percentage     shifts  minutes_on_ice  game_attended  \n",
       "player                                                                      \n",
       "A.J. Greer              0.000000  15.818182       10.663636             11  \n",
       "Aaron Ekblad            0.061899  24.668639       21.862130            169  \n",
       "Aaron Ness              0.000000  18.222222       12.583333             18  \n",
       "Adam Clendening         0.000000  20.407407       15.166667             27  \n",
       "Adam Cracknell          0.061728  16.272000       11.100800            125  "
      ]
     },
     "execution_count": 10,
     "metadata": {},
     "output_type": "execute_result"
    }
   ],
   "source": [
    "player_mean.head()"
   ]
  },
  {
   "cell_type": "code",
   "execution_count": 11,
   "metadata": {
    "collapsed": true
   },
   "outputs": [],
   "source": [
    "#feature nomalization\n",
    "min_max_scaler = preprocessing.MinMaxScaler()\n",
    "np_scaled = min_max_scaler.fit_transform(player_mean)\n",
    "player = pd.DataFrame(np_scaled, columns = player_mean.columns, index = player_mean.index )"
   ]
  },
  {
   "cell_type": "code",
   "execution_count": 12,
   "metadata": {
    "collapsed": false
   },
   "outputs": [
    {
     "data": {
      "text/html": [
       "<div>\n",
       "<table border=\"1\" class=\"dataframe\">\n",
       "  <thead>\n",
       "    <tr style=\"text-align: right;\">\n",
       "      <th></th>\n",
       "      <th>goals</th>\n",
       "      <th>assists</th>\n",
       "      <th>points</th>\n",
       "      <th>plus_minus</th>\n",
       "      <th>penalty_minutes</th>\n",
       "      <th>power_play_goals</th>\n",
       "      <th>short_handed_goals</th>\n",
       "      <th>shots</th>\n",
       "      <th>shot_percentage</th>\n",
       "      <th>shifts</th>\n",
       "      <th>minutes_on_ice</th>\n",
       "      <th>game_attended</th>\n",
       "    </tr>\n",
       "    <tr>\n",
       "      <th>player</th>\n",
       "      <th></th>\n",
       "      <th></th>\n",
       "      <th></th>\n",
       "      <th></th>\n",
       "      <th></th>\n",
       "      <th></th>\n",
       "      <th></th>\n",
       "      <th></th>\n",
       "      <th></th>\n",
       "      <th></th>\n",
       "      <th></th>\n",
       "      <th></th>\n",
       "    </tr>\n",
       "  </thead>\n",
       "  <tbody>\n",
       "    <tr>\n",
       "      <th>A.J. Greer</th>\n",
       "      <td>0.000000</td>\n",
       "      <td>0.225037</td>\n",
       "      <td>0.154239</td>\n",
       "      <td>0.342246</td>\n",
       "      <td>0.507463</td>\n",
       "      <td>0.000000</td>\n",
       "      <td>0.000000</td>\n",
       "      <td>0.285903</td>\n",
       "      <td>0.000000</td>\n",
       "      <td>0.297900</td>\n",
       "      <td>0.240115</td>\n",
       "      <td>0.032432</td>\n",
       "    </tr>\n",
       "    <tr>\n",
       "      <th>Aaron Ekblad</th>\n",
       "      <td>0.305115</td>\n",
       "      <td>0.270977</td>\n",
       "      <td>0.326275</td>\n",
       "      <td>0.467804</td>\n",
       "      <td>0.186170</td>\n",
       "      <td>0.187906</td>\n",
       "      <td>0.071006</td>\n",
       "      <td>0.620744</td>\n",
       "      <td>0.216368</td>\n",
       "      <td>0.664435</td>\n",
       "      <td>0.740110</td>\n",
       "      <td>0.886486</td>\n",
       "    </tr>\n",
       "    <tr>\n",
       "      <th>Aaron Ness</th>\n",
       "      <td>0.000000</td>\n",
       "      <td>0.206284</td>\n",
       "      <td>0.141386</td>\n",
       "      <td>0.601307</td>\n",
       "      <td>0.140962</td>\n",
       "      <td>0.000000</td>\n",
       "      <td>0.000000</td>\n",
       "      <td>0.124799</td>\n",
       "      <td>0.000000</td>\n",
       "      <td>0.397462</td>\n",
       "      <td>0.325827</td>\n",
       "      <td>0.070270</td>\n",
       "    </tr>\n",
       "    <tr>\n",
       "      <th>Adam Clendening</th>\n",
       "      <td>0.000000</td>\n",
       "      <td>0.275046</td>\n",
       "      <td>0.188514</td>\n",
       "      <td>0.522876</td>\n",
       "      <td>0.131564</td>\n",
       "      <td>0.000000</td>\n",
       "      <td>0.000000</td>\n",
       "      <td>0.282877</td>\n",
       "      <td>0.000000</td>\n",
       "      <td>0.487960</td>\n",
       "      <td>0.441168</td>\n",
       "      <td>0.118919</td>\n",
       "    </tr>\n",
       "    <tr>\n",
       "      <th>Adam Cracknell</th>\n",
       "      <td>0.220990</td>\n",
       "      <td>0.108918</td>\n",
       "      <td>0.176449</td>\n",
       "      <td>0.500706</td>\n",
       "      <td>0.064955</td>\n",
       "      <td>0.000000</td>\n",
       "      <td>0.096000</td>\n",
       "      <td>0.287536</td>\n",
       "      <td>0.215769</td>\n",
       "      <td>0.316695</td>\n",
       "      <td>0.259634</td>\n",
       "      <td>0.648649</td>\n",
       "    </tr>\n",
       "  </tbody>\n",
       "</table>\n",
       "</div>"
      ],
      "text/plain": [
       "                    goals   assists    points  plus_minus  penalty_minutes  \\\n",
       "player                                                                       \n",
       "A.J. Greer       0.000000  0.225037  0.154239    0.342246         0.507463   \n",
       "Aaron Ekblad     0.305115  0.270977  0.326275    0.467804         0.186170   \n",
       "Aaron Ness       0.000000  0.206284  0.141386    0.601307         0.140962   \n",
       "Adam Clendening  0.000000  0.275046  0.188514    0.522876         0.131564   \n",
       "Adam Cracknell   0.220990  0.108918  0.176449    0.500706         0.064955   \n",
       "\n",
       "                 power_play_goals  short_handed_goals     shots  \\\n",
       "player                                                            \n",
       "A.J. Greer               0.000000            0.000000  0.285903   \n",
       "Aaron Ekblad             0.187906            0.071006  0.620744   \n",
       "Aaron Ness               0.000000            0.000000  0.124799   \n",
       "Adam Clendening          0.000000            0.000000  0.282877   \n",
       "Adam Cracknell           0.000000            0.096000  0.287536   \n",
       "\n",
       "                 shot_percentage    shifts  minutes_on_ice  game_attended  \n",
       "player                                                                     \n",
       "A.J. Greer              0.000000  0.297900        0.240115       0.032432  \n",
       "Aaron Ekblad            0.216368  0.664435        0.740110       0.886486  \n",
       "Aaron Ness              0.000000  0.397462        0.325827       0.070270  \n",
       "Adam Clendening         0.000000  0.487960        0.441168       0.118919  \n",
       "Adam Cracknell          0.215769  0.316695        0.259634       0.648649  "
      ]
     },
     "execution_count": 12,
     "metadata": {},
     "output_type": "execute_result"
    }
   ],
   "source": [
    "player.head()"
   ]
  },
  {
   "cell_type": "code",
   "execution_count": 13,
   "metadata": {
    "collapsed": false
   },
   "outputs": [],
   "source": [
    "# Using a very simple linear model containing two features(points and plus/minus)  \n",
    "player['performance'] = player['points']*0.5 + player['plus_minus']*0.5 "
   ]
  },
  {
   "cell_type": "code",
   "execution_count": 14,
   "metadata": {
    "collapsed": false
   },
   "outputs": [],
   "source": [
    "# Top5 ranked by performances\n",
    "top = player.sort_values(by='performance', ascending=False).head(5)"
   ]
  },
  {
   "cell_type": "code",
   "execution_count": 15,
   "metadata": {
    "collapsed": false
   },
   "outputs": [
    {
     "data": {
      "text/html": [
       "<div>\n",
       "<table border=\"1\" class=\"dataframe\">\n",
       "  <thead>\n",
       "    <tr style=\"text-align: right;\">\n",
       "      <th></th>\n",
       "      <th>goals</th>\n",
       "      <th>assists</th>\n",
       "      <th>points</th>\n",
       "      <th>plus_minus</th>\n",
       "      <th>penalty_minutes</th>\n",
       "      <th>power_play_goals</th>\n",
       "      <th>short_handed_goals</th>\n",
       "      <th>shots</th>\n",
       "      <th>shot_percentage</th>\n",
       "      <th>shifts</th>\n",
       "      <th>minutes_on_ice</th>\n",
       "      <th>game_attended</th>\n",
       "      <th>performance</th>\n",
       "    </tr>\n",
       "    <tr>\n",
       "      <th>player</th>\n",
       "      <th></th>\n",
       "      <th></th>\n",
       "      <th></th>\n",
       "      <th></th>\n",
       "      <th></th>\n",
       "      <th></th>\n",
       "      <th></th>\n",
       "      <th></th>\n",
       "      <th></th>\n",
       "      <th></th>\n",
       "      <th></th>\n",
       "      <th></th>\n",
       "      <th></th>\n",
       "    </tr>\n",
       "  </thead>\n",
       "  <tbody>\n",
       "    <tr>\n",
       "      <th>Connor McDavid</th>\n",
       "      <td>0.682972</td>\n",
       "      <td>1.000000</td>\n",
       "      <td>1.000000</td>\n",
       "      <td>0.554733</td>\n",
       "      <td>0.087378</td>\n",
       "      <td>0.270393</td>\n",
       "      <td>0.07947</td>\n",
       "      <td>0.629283</td>\n",
       "      <td>0.505341</td>\n",
       "      <td>0.636196</td>\n",
       "      <td>0.680446</td>\n",
       "      <td>0.789189</td>\n",
       "      <td>0.777367</td>\n",
       "    </tr>\n",
       "    <tr>\n",
       "      <th>Patrick Kane</th>\n",
       "      <td>0.876476</td>\n",
       "      <td>0.867055</td>\n",
       "      <td>0.998017</td>\n",
       "      <td>0.543567</td>\n",
       "      <td>0.097693</td>\n",
       "      <td>0.630755</td>\n",
       "      <td>0.00000</td>\n",
       "      <td>0.789235</td>\n",
       "      <td>0.481424</td>\n",
       "      <td>0.619027</td>\n",
       "      <td>0.689583</td>\n",
       "      <td>0.983784</td>\n",
       "      <td>0.770792</td>\n",
       "    </tr>\n",
       "    <tr>\n",
       "      <th>Nikita Kucherov</th>\n",
       "      <td>0.920792</td>\n",
       "      <td>0.697098</td>\n",
       "      <td>0.901944</td>\n",
       "      <td>0.551724</td>\n",
       "      <td>0.122491</td>\n",
       "      <td>0.756098</td>\n",
       "      <td>0.00000</td>\n",
       "      <td>0.695860</td>\n",
       "      <td>0.562954</td>\n",
       "      <td>0.569148</td>\n",
       "      <td>0.615810</td>\n",
       "      <td>0.913514</td>\n",
       "      <td>0.726834</td>\n",
       "    </tr>\n",
       "    <tr>\n",
       "      <th>Evgeni Malkin</th>\n",
       "      <td>0.875079</td>\n",
       "      <td>0.737356</td>\n",
       "      <td>0.908479</td>\n",
       "      <td>0.527326</td>\n",
       "      <td>0.291521</td>\n",
       "      <td>0.836533</td>\n",
       "      <td>0.00000</td>\n",
       "      <td>0.665947</td>\n",
       "      <td>0.534413</td>\n",
       "      <td>0.598267</td>\n",
       "      <td>0.606051</td>\n",
       "      <td>0.735135</td>\n",
       "      <td>0.717902</td>\n",
       "    </tr>\n",
       "    <tr>\n",
       "      <th>Nicklas Backstrom</th>\n",
       "      <td>0.504383</td>\n",
       "      <td>0.890832</td>\n",
       "      <td>0.842911</td>\n",
       "      <td>0.572499</td>\n",
       "      <td>0.119593</td>\n",
       "      <td>0.317850</td>\n",
       "      <td>0.00000</td>\n",
       "      <td>0.416367</td>\n",
       "      <td>0.463252</td>\n",
       "      <td>0.588471</td>\n",
       "      <td>0.599040</td>\n",
       "      <td>0.821622</td>\n",
       "      <td>0.707705</td>\n",
       "    </tr>\n",
       "  </tbody>\n",
       "</table>\n",
       "</div>"
      ],
      "text/plain": [
       "                      goals   assists    points  plus_minus  penalty_minutes  \\\n",
       "player                                                                         \n",
       "Connor McDavid     0.682972  1.000000  1.000000    0.554733         0.087378   \n",
       "Patrick Kane       0.876476  0.867055  0.998017    0.543567         0.097693   \n",
       "Nikita Kucherov    0.920792  0.697098  0.901944    0.551724         0.122491   \n",
       "Evgeni Malkin      0.875079  0.737356  0.908479    0.527326         0.291521   \n",
       "Nicklas Backstrom  0.504383  0.890832  0.842911    0.572499         0.119593   \n",
       "\n",
       "                   power_play_goals  short_handed_goals     shots  \\\n",
       "player                                                              \n",
       "Connor McDavid             0.270393             0.07947  0.629283   \n",
       "Patrick Kane               0.630755             0.00000  0.789235   \n",
       "Nikita Kucherov            0.756098             0.00000  0.695860   \n",
       "Evgeni Malkin              0.836533             0.00000  0.665947   \n",
       "Nicklas Backstrom          0.317850             0.00000  0.416367   \n",
       "\n",
       "                   shot_percentage    shifts  minutes_on_ice  game_attended  \\\n",
       "player                                                                        \n",
       "Connor McDavid            0.505341  0.636196        0.680446       0.789189   \n",
       "Patrick Kane              0.481424  0.619027        0.689583       0.983784   \n",
       "Nikita Kucherov           0.562954  0.569148        0.615810       0.913514   \n",
       "Evgeni Malkin             0.534413  0.598267        0.606051       0.735135   \n",
       "Nicklas Backstrom         0.463252  0.588471        0.599040       0.821622   \n",
       "\n",
       "                   performance  \n",
       "player                          \n",
       "Connor McDavid        0.777367  \n",
       "Patrick Kane          0.770792  \n",
       "Nikita Kucherov       0.726834  \n",
       "Evgeni Malkin         0.717902  \n",
       "Nicklas Backstrom     0.707705  "
      ]
     },
     "execution_count": 15,
     "metadata": {},
     "output_type": "execute_result"
    }
   ],
   "source": [
    "top "
   ]
  },
  {
   "cell_type": "code",
   "execution_count": 16,
   "metadata": {
    "collapsed": false
   },
   "outputs": [
    {
     "data": {
      "text/plain": [
       "goals                   0.370861\n",
       "assists                 0.807947\n",
       "points                  1.178808\n",
       "plus_minus              0.178808\n",
       "penalty_minutes         0.344371\n",
       "power_play_goals        0.059603\n",
       "short_handed_goals      0.006623\n",
       "shots                   2.801325\n",
       "shot_percentage         0.144570\n",
       "shifts                 23.986755\n",
       "minutes_on_ice         20.525828\n",
       "game_attended         151.000000\n",
       "Name: Connor McDavid, dtype: float64"
      ]
     },
     "execution_count": 16,
     "metadata": {},
     "output_type": "execute_result"
    }
   ],
   "source": [
    "player_mean.ix[top.iloc[0].name]"
   ]
  },
  {
   "cell_type": "code",
   "execution_count": 17,
   "metadata": {
    "collapsed": false
   },
   "outputs": [
    {
     "data": {
      "text/plain": [
       "<matplotlib.legend.Legend at 0x1004371d0>"
      ]
     },
     "execution_count": 17,
     "metadata": {},
     "output_type": "execute_result"
    },
    {
     "data": {
      "image/png": "[encoded data removed]",
      "text/plain": [
       "<matplotlib.figure.Figure at 0x115f43e10>"
      ]
     },
     "metadata": {},
     "output_type": "display_data"
    }
   ],
   "source": [
    "fig, ax = plt.subplots()\n",
    "\n",
    "ax.hist(player_mean['points'], bins=20, color='blue', label='Mean Points Per Game',\n",
    "        alpha=0.5, histtype='stepfilled')\n",
    "ax.axvline(player_mean.ix[top.iloc[0].name].points, color='red', linewidth=2, label='Connor McDavid')\n",
    "\n",
    "ax.legend(loc='upper right')"
   ]
  },
  {
   "cell_type": "code",
   "execution_count": 18,
   "metadata": {
    "collapsed": false
   },
   "outputs": [
    {
     "data": {
      "text/plain": [
       "<matplotlib.legend.Legend at 0x117dd5e90>"
      ]
     },
     "execution_count": 18,
     "metadata": {},
     "output_type": "execute_result"
    },
    {
     "data": {
      "image/png": "[encoded data removed]",
      "text/plain": [
       "<matplotlib.figure.Figure at 0x117d00c10>"
      ]
     },
     "metadata": {},
     "output_type": "display_data"
    }
   ],
   "source": [
    "fig, ax = plt.subplots()\n",
    "\n",
    "ax.hist(player_mean['plus_minus'], bins=20, color='blue', label='Mean Plus_Minus Per Game',\n",
    "        alpha=0.5, histtype='stepfilled')\n",
    "ax.axvline(player_mean.ix[top.iloc[0].name].plus_minus, color='red', linewidth=2, label='Connor McDavid')\n",
    "\n",
    "ax.legend(loc='upper right')"
   ]
  },
  {
   "cell_type": "code",
   "execution_count": 19,
   "metadata": {
    "collapsed": false
   },
   "outputs": [
    {
     "data": {
      "text/plain": [
       "<matplotlib.legend.Legend at 0x117e96d90>"
      ]
     },
     "execution_count": 19,
     "metadata": {},
     "output_type": "execute_result"
    },
    {
     "data": {
      "image/png": "[encoded data removed]",
      "text/plain": [
       "<matplotlib.figure.Figure at 0x117d8dd50>"
      ]
     },
     "metadata": {},
     "output_type": "display_data"
    }
   ],
   "source": [
    "fig, ax = plt.subplots()\n",
    "\n",
    "ax.hist(player_mean['game_attended'], bins=20, color='blue', label='#Game played',\n",
    "        alpha=0.5, histtype='stepfilled')\n",
    "ax.axvline(player_mean.ix[top.iloc[0].name].game_attended, color='red', linewidth=2, label='Connor McDavid')\n",
    "\n",
    "ax.legend(loc='upper right')"
   ]
  },
  {
   "cell_type": "code",
   "execution_count": null,
   "metadata": {
    "collapsed": true
   },
   "outputs": [],
   "source": []
  }
 ],
 "metadata": {
  "anaconda-cloud": {},
  "kernelspec": {
   "display_name": "Python [Root]",
   "language": "python",
   "name": "Python [Root]"
  },
  "language_info": {
   "codemirror_mode": {
    "name": "ipython",
    "version": 2
   },
   "file_extension": ".py",
   "mimetype": "text/x-python",
   "name": "python",
   "nbconvert_exporter": "python",
   "pygments_lexer": "ipython2",
   "version": "2.7.12"
  }
 },
 "nbformat": 4,
 "nbformat_minor": 0
}
